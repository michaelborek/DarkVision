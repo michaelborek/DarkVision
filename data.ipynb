{
 "cells": [
  {
   "cell_type": "code",
   "execution_count": 12,
   "metadata": {},
   "outputs": [
    {
     "name": "stdout",
     "output_type": "stream",
     "text": [
      "Categories found: ['Cat', 'Cow', 'Deer', 'Dog', 'Goat', 'Hen', 'Rabbit', 'Sheep']\n",
      "Mapping: {'Cat': 0, 'Cow': 1, 'Deer': 2, 'Dog': 3, 'Goat': 4, 'Hen': 5, 'Rabbit': 6, 'Sheep': 7}\n",
      "Full dataset saved to full_dataset.csv\n",
      "Train, Validation, and Test datasets saved to train_dataset.csv, val_dataset.csv, and test_dataset.csv respectively.\n"
     ]
    }
   ],
   "source": [
    "import os\n",
    "import pandas as pd\n",
    "from sklearn.model_selection import train_test_split\n",
    "\n",
    "root_dir = \"../Dataset_Of_animal_Images/\"  \n",
    "\n",
    "\n",
    "# We dropping NightVision for the purpose reasons\n",
    "categories = ['Cat', 'Cow','Deer', 'Dog', 'Goat','Hen', 'Rabbit','Sheep']\n",
    "print(\"Categories found:\", categories)\n",
    "\n",
    "mapping = {category: idx for idx, category in enumerate(categories)}\n",
    "print(\"Mapping:\", mapping)\n",
    "\n",
    "data_rows = []\n",
    "\n",
    "for category in categories:\n",
    "    image_dir = os.path.join(root_dir, category, \"train\", \"images\")\n",
    "    if os.path.exists(image_dir):\n",
    "        image_files = os.listdir(image_dir)\n",
    "        for img_file in image_files:\n",
    "            # Create full file path\n",
    "            img_path = os.path.join(image_dir, img_file)\n",
    "            # Get the label from the mapping\n",
    "            label = mapping[category]\n",
    "            data_rows.append({\"filepath\": img_path, \"label\": label})\n",
    "    else:\n",
    "        print(f\"Warning: {image_dir} does not exist.\")\n",
    "\n",
    "df = pd.DataFrame(data_rows)\n",
    "\n",
    "# Save the full dataset CSV.\n",
    "df.to_csv(\"full_dataset.csv\", index=False)\n",
    "print(\"Full dataset saved to full_dataset.csv\")\n",
    "\n",
    "train_df, temp_df = train_test_split(\n",
    "    df, test_size=0.3, random_state=42, stratify=df[\"label\"]\n",
    ")\n",
    "val_df, test_df = train_test_split(\n",
    "    temp_df, test_size=0.5, random_state=42, stratify=temp_df[\"label\"]\n",
    ")\n",
    "\n",
    "train_df.to_csv(\"train_dataset.csv\", index=False)\n",
    "val_df.to_csv(\"val_dataset.csv\", index=False)\n",
    "test_df.to_csv(\"test_dataset.csv\", index=False)\n",
    "\n",
    "print(\"Train, Validation, and Test datasets saved to train_dataset.csv, val_dataset.csv, and test_dataset.csv respectively.\")\n"
   ]
  },
  {
   "cell_type": "code",
   "execution_count": 13,
   "metadata": {},
   "outputs": [
    {
     "data": {
      "text/plain": [
       "label\n",
       "2    3882\n",
       "0    2866\n",
       "3    2373\n",
       "6    2236\n",
       "5    2006\n",
       "7    1410\n",
       "4     969\n",
       "1     881\n",
       "Name: count, dtype: int64"
      ]
     },
     "execution_count": 13,
     "metadata": {},
     "output_type": "execute_result"
    }
   ],
   "source": [
    "import pandas as pd\n",
    "import matplotlib.pyplot as plt\n",
    "\n",
    "df = pd.read_csv('full_dataset.csv')\n",
    "df['label'].value_counts()"
   ]
  },
  {
   "cell_type": "code",
   "execution_count": null,
   "metadata": {},
   "outputs": [],
   "source": []
  }
 ],
 "metadata": {
  "kernelspec": {
   "display_name": ".venv",
   "language": "python",
   "name": "python3"
  },
  "language_info": {
   "codemirror_mode": {
    "name": "ipython",
    "version": 3
   },
   "file_extension": ".py",
   "mimetype": "text/x-python",
   "name": "python",
   "nbconvert_exporter": "python",
   "pygments_lexer": "ipython3",
   "version": "3.10.1"
  }
 },
 "nbformat": 4,
 "nbformat_minor": 2
}
